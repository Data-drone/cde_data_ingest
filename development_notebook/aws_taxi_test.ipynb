{
 "cells": [
  {
   "cell_type": "markdown",
   "id": "british-multimedia",
   "metadata": {},
   "source": [
    "# Scala Experiment"
   ]
  },
  {
   "cell_type": "markdown",
   "id": "unable-wages",
   "metadata": {},
   "source": [
    "We set the Anonymous AWS Credentials Provider as we don't need to authenticate for aws open data\n"
   ]
  },
  {
   "cell_type": "code",
   "execution_count": 2,
   "id": "statutory-manor",
   "metadata": {},
   "outputs": [],
   "source": [
    "%%init_spark\n",
    "launcher.master = \"spark://spark-master:7077\"\n",
    "launcher.num_executors = 2\n",
    "launcher.executor_cores = 2\n",
    "launcher.executor_memory = '4G'\n",
    "launcher.packages = [\"com.amazon.deequ:deequ:1.2.2-spark-3.0\",\n",
    "                    \"org.apache.hadoop:hadoop-aws:3.2.0\"]\n",
    "launcher.conf.set(\"spark.hadoop.fs.s3a.aws.credentials.provider\", \n",
    "                  \"org.apache.hadoop.fs.s3a.AnonymousAWSCredentialsProvider\")"
   ]
  },
  {
   "cell_type": "code",
   "execution_count": 3,
   "id": "difficult-masters",
   "metadata": {},
   "outputs": [
    {
     "data": {
      "text/plain": [
       "Intitializing Scala interpreter ..."
      ]
     },
     "metadata": {},
     "output_type": "display_data"
    },
    {
     "data": {
      "text/plain": [
       "Spark Web UI available at http://7847ea2e55be:4040\n",
       "SparkContext available as 'sc' (version = 3.1.1, master = spark://spark-master:7077, app id = app-20210522141525-0006)\n",
       "SparkSession available as 'spark'\n"
      ]
     },
     "metadata": {},
     "output_type": "display_data"
    },
    {
     "data": {
      "text/plain": [
       "res0: org.apache.spark.sql.SparkSession = org.apache.spark.sql.SparkSession@94011f\n"
      ]
     },
     "execution_count": 3,
     "metadata": {},
     "output_type": "execute_result"
    }
   ],
   "source": [
    "spark"
   ]
  },
  {
   "cell_type": "code",
   "execution_count": 4,
   "id": "posted-uruguay",
   "metadata": {},
   "outputs": [
    {
     "data": {
      "text/plain": [
       "res1: String = 3.1.1\n"
      ]
     },
     "execution_count": 4,
     "metadata": {},
     "output_type": "execute_result"
    }
   ],
   "source": [
    "spark.version"
   ]
  },
  {
   "cell_type": "code",
   "execution_count": 18,
   "id": "indian-progressive",
   "metadata": {},
   "outputs": [
    {
     "data": {
      "text/plain": [
       "import org.apache.spark.sql.SparkSession\n",
       "import com.amazon.deequ.VerificationSuite\n",
       "import com.amazon.deequ.checks.{Check, CheckLevel, CheckStatus}\n",
       "import com.amazon.deequ.constraints.ConstraintStatus\n",
       "import java.net.{URI, URLEncoder}\n",
       "import org.apache.hadoop.fs.{FileSystem, Path, RemoteIterator, LocatedFileStatus}\n",
       "import scala.collection.mutable.ListBuffer\n"
      ]
     },
     "execution_count": 18,
     "metadata": {},
     "output_type": "execute_result"
    }
   ],
   "source": [
    "import org.apache.spark.sql.SparkSession\n",
    "import com.amazon.deequ.VerificationSuite\n",
    "import com.amazon.deequ.checks.{Check, CheckLevel, CheckStatus}\n",
    "import com.amazon.deequ.constraints.ConstraintStatus\n",
    "import java.net.{URI, URLEncoder}\n",
    "import org.apache.hadoop.fs.{FileSystem, Path, RemoteIterator, LocatedFileStatus}\n",
    "import scala.collection.mutable.ListBuffer"
   ]
  },
  {
   "cell_type": "markdown",
   "id": "offensive-alliance",
   "metadata": {},
   "source": [
    "Check Raw TLC bucket data"
   ]
  },
  {
   "cell_type": "code",
   "execution_count": 11,
   "id": "raised-visiting",
   "metadata": {},
   "outputs": [
    {
     "data": {
      "text/plain": [
       "rawS3Dir: String = s3a://nyc-tlc/\n",
       "fileSystem: org.apache.hadoop.fs.FileSystem = S3AFileSystem{uri=s3a://nyc-tlc, workingDir=s3a://nyc-tlc/user/jovyan, inputPolicy=normal, partSize=104857600, enableMultiObjectsDelete=true, maxKeys=5000, readAhead=65536, blockSize=33554432, multiPartThreshold=2147483647, serverSideEncryptionAlgorithm='NONE', blockFactory=org.apache.hadoop.fs.s3a.S3ADataBlocks$DiskBlockFactory@13747edc, metastore=NullMetadataStore, authoritative=false, useListV1=false, magicCommitter=false, boundedExecutor=BlockingThreadPoolExecutorService{SemaphoredDelegatingExecutor{permitCount=25, available=25, waiting=0}, activeCount=0}, unboundedExecutor=java.util.concurrent.ThreadPoolExecutor@5293c779[Running, pool size = 0, active threads = 0, queued tasks = 0, completed tasks = 0],...\n"
      ]
     },
     "execution_count": 11,
     "metadata": {},
     "output_type": "execute_result"
    }
   ],
   "source": [
    "val rawS3Dir = \"s3a://nyc-tlc/\"\n",
    "//val fileSystem = FileSystem.get(URI.create(rawS3Dir), new Configuration())\n",
    "val fileSystem = FileSystem.get(URI.create(rawS3Dir), spark.sparkContext.hadoopConfiguration)\n",
    "val itemlist = fileSystem.listFiles(new Path(rawS3Dir), true)       "
   ]
  },
  {
   "cell_type": "code",
   "execution_count": 12,
   "id": "sustained-steal",
   "metadata": {},
   "outputs": [
    {
     "data": {
      "text/plain": [
       "limit: Int = 10000\n",
       "cnt: Int = 1\n"
      ]
     },
     "execution_count": 12,
     "metadata": {},
     "output_type": "execute_result"
    }
   ],
   "source": [
    "val limit = 10000\n",
    "var cnt = 1"
   ]
  },
  {
   "cell_type": "code",
   "execution_count": 13,
   "id": "sealed-judges",
   "metadata": {},
   "outputs": [
    {
     "data": {
      "text/plain": [
       "loopy: (iter: org.apache.hadoop.fs.RemoteIterator[org.apache.hadoop.fs.LocatedFileStatus])scala.collection.mutable.ListBuffer[String]\n"
      ]
     },
     "execution_count": 13,
     "metadata": {},
     "output_type": "execute_result"
    }
   ],
   "source": [
    "def loopy(iter: RemoteIterator[LocatedFileStatus]) : ListBuffer[String] = {\n",
    "\n",
    "    var files = new ListBuffer[String]()\n",
    "            \n",
    "    while(cnt <  limit) {\n",
    "        if (iter.hasNext) {\n",
    "            val uri = iter.next.getPath.toUri.toString\n",
    "            files += uri\n",
    "            cnt += 1\n",
    "        } else {\n",
    "            cnt += 1\n",
    "        }\n",
    "    }\n",
    "\n",
    "    return files \n",
    "}"
   ]
  },
  {
   "cell_type": "code",
   "execution_count": 14,
   "id": "needed-rocket",
   "metadata": {},
   "outputs": [
    {
     "data": {
      "text/plain": [
       "fileList: List[String] = List(s3a://nyc-tlc/misc/FOIL_2017-12-04.csv, s3a://nyc-tlc/misc/FOIL_fhv_trips_june17.csv, s3a://nyc-tlc/misc/FOIL_medallion_trips_june17.csv, s3a://nyc-tlc/misc/FOIL_weekly_trips_apps.csv, s3a://nyc-tlc/misc/FOIL_weekly_trips_yellow.csv, s3a://nyc-tlc/misc/FOIL_yellow_trips_deadhead.csv, s3a://nyc-tlc/misc/FOIL_yellow_trips_deadhead_apr13.csv, s3a://nyc-tlc/misc/foil26707_1.csv, s3a://nyc-tlc/misc/foil26707_2.csv, s3a://nyc-tlc/misc/foil26707_3.csv, s3a://nyc-tlc/misc/foil26707_4.csv, s3a://nyc-tlc/misc/shared_rides_by_puzone_monthly.csv, s3a://nyc-tlc/misc/taxi%20_zone_lookup.csv, s3a://nyc-tlc/misc/taxi_zones.html, s3a://nyc-tlc/misc/taxi_zones.zip, s3a://nyc-tlc/misc/uber_nyc_data.csv, s3a://nyc-tlc/trip%20data/fhv_tripdata_2015-01.csv, s3a://nyc-tlc/trip%20...\n"
      ]
     },
     "execution_count": 14,
     "metadata": {},
     "output_type": "execute_result"
    }
   ],
   "source": [
    "val fileList = loopy(itemlist).toList"
   ]
  },
  {
   "cell_type": "markdown",
   "id": "floating-mirror",
   "metadata": {},
   "source": [
    "Check the specific trip data"
   ]
  },
  {
   "cell_type": "markdown",
   "id": "hispanic-longer",
   "metadata": {},
   "source": [
    "Load the green trip data"
   ]
  },
  {
   "cell_type": "code",
   "execution_count": 42,
   "id": "typical-capture",
   "metadata": {},
   "outputs": [
    {
     "data": {
      "text/plain": [
       "green_trip_data: String = s3a://nyc-tlc/trip data/green_tripdata_2018*.csv\n",
       "taxi_test: org.apache.spark.sql.DataFrame = [VendorID: string, lpep_pickup_datetime: string ... 17 more fields]\n"
      ]
     },
     "execution_count": 42,
     "metadata": {},
     "output_type": "execute_result"
    }
   ],
   "source": [
    "val green_trip_data = \"s3a://nyc-tlc/trip data/green_tripdata_2018*.csv\"\n",
    "val taxi_test = spark.read.option(\"header\", true).csv(green_trip_data)"
   ]
  },
  {
   "cell_type": "code",
   "execution_count": 43,
   "id": "wound-snowboard",
   "metadata": {},
   "outputs": [
    {
     "name": "stdout",
     "output_type": "stream",
     "text": [
      "root\n",
      " |-- VendorID: string (nullable = true)\n",
      " |-- lpep_pickup_datetime: string (nullable = true)\n",
      " |-- lpep_dropoff_datetime: string (nullable = true)\n",
      " |-- store_and_fwd_flag: string (nullable = true)\n",
      " |-- RatecodeID: string (nullable = true)\n",
      " |-- PULocationID: string (nullable = true)\n",
      " |-- DOLocationID: string (nullable = true)\n",
      " |-- passenger_count: string (nullable = true)\n",
      " |-- trip_distance: string (nullable = true)\n",
      " |-- fare_amount: string (nullable = true)\n",
      " |-- extra: string (nullable = true)\n",
      " |-- mta_tax: string (nullable = true)\n",
      " |-- tip_amount: string (nullable = true)\n",
      " |-- tolls_amount: string (nullable = true)\n",
      " |-- ehail_fee: string (nullable = true)\n",
      " |-- improvement_surcharge: string (nullable = true)\n",
      " |-- total_amount: string (nullable = true)\n",
      " |-- payment_type: string (nullable = true)\n",
      " |-- trip_type: string (nullable = true)\n",
      "\n"
     ]
    }
   ],
   "source": [
    "taxi_test.printSchema()"
   ]
  },
  {
   "cell_type": "code",
   "execution_count": 45,
   "id": "ready-arrow",
   "metadata": {},
   "outputs": [
    {
     "data": {
      "text/plain": [
       "verificationResult: com.amazon.deequ.VerificationResult = VerificationResult(Error,Map(Check(Error,unit testing my data,List(CompletenessConstraint(Completeness(lpep_pickup_datetime,None)), ComplianceConstraint(Compliance(fare_amount is non-negative,COALESCE(CAST(fare_amount AS DECIMAL(20,10)), 0.0) >= 0,None)))) -> CheckResult(Check(Error,unit testing my data,List(CompletenessConstraint(Completeness(lpep_pickup_datetime,None)), ComplianceConstraint(Compliance(fare_amount is non-negative,COALESCE(CAST(fare_amount AS DECIMAL(20,10)), 0.0) >= 0,None)))),Error,List(ConstraintResult(CompletenessConstraint(Completeness(lpep_pickup_datetime,None)),Success,None,Some(DoubleMetric(Column,Completeness,lpep_pickup_datetime,Success(1.0)))), ConstraintResult(ComplianceConstraint(Compliance(fare_amou...\n"
      ]
     },
     "execution_count": 45,
     "metadata": {},
     "output_type": "execute_result"
    }
   ],
   "source": [
    "// try deequ test\n",
    "val verificationResult = VerificationSuite()\n",
    "    .onData(taxi_test)\n",
    "    .addCheck(\n",
    "        Check(CheckLevel.Error, \"unit testing my data\")\n",
    "            .isComplete(\"lpep_pickup_datetime\")\n",
    "            .isNonNegative(\"fare_amount\")\n",
    "        )\n",
    "    .run()"
   ]
  },
  {
   "cell_type": "code",
   "execution_count": 46,
   "id": "absolute-notice",
   "metadata": {},
   "outputs": [
    {
     "name": "stdout",
     "output_type": "stream",
     "text": [
      "We found errors in the data:\n",
      "\n",
      "ComplianceConstraint(Compliance(fare_amount is non-negative,COALESCE(CAST(fare_amount AS DECIMAL(20,10)), 0.0) >= 0,None)): Value: 0.9973816047886623 does not meet the constraint requirement!\n"
     ]
    }
   ],
   "source": [
    "if (verificationResult.status == CheckStatus.Success) {\n",
    "  println(\"The data passed the test, everything is fine!\")\n",
    "} else {\n",
    "  println(\"We found errors in the data:\\n\")\n",
    "\n",
    "  val resultsForAllConstraints = verificationResult.checkResults\n",
    "    .flatMap { case (_, checkResult) => checkResult.constraintResults }\n",
    "\n",
    "  resultsForAllConstraints\n",
    "    .filter { _.status != ConstraintStatus.Success }\n",
    "    .foreach { result => println(s\"${result.constraint}: ${result.message.get}\") }\n",
    "}"
   ]
  },
  {
   "cell_type": "code",
   "execution_count": null,
   "id": "improving-excitement",
   "metadata": {},
   "outputs": [],
   "source": []
  },
  {
   "cell_type": "code",
   "execution_count": null,
   "id": "difficult-polls",
   "metadata": {},
   "outputs": [],
   "source": [
    "// stop the session\n",
    "spark.stop()"
   ]
  }
 ],
 "metadata": {
  "kernelspec": {
   "display_name": "spylon-kernel [conda env:spark]",
   "language": "scala",
   "name": "conda-env-spark-spylon-kernel"
  },
  "language_info": {
   "codemirror_mode": "text/x-scala",
   "file_extension": ".scala",
   "help_links": [
    {
     "text": "MetaKernel Magics",
     "url": "https://metakernel.readthedocs.io/en/latest/source/README.html"
    }
   ],
   "mimetype": "text/x-scala",
   "name": "scala",
   "pygments_lexer": "scala",
   "version": "0.4.1"
  }
 },
 "nbformat": 4,
 "nbformat_minor": 5
}
