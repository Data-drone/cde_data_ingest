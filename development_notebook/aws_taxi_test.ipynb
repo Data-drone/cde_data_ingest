{
 "cells": [
  {
   "cell_type": "markdown",
   "id": "addressed-period",
   "metadata": {},
   "source": [
    "# Scala Experiment"
   ]
  },
  {
   "cell_type": "markdown",
   "id": "other-factory",
   "metadata": {},
   "source": [
    "We set the Anonymous AWS Credentials Provider as we don't need to authenticate for aws open data\n"
   ]
  },
  {
   "cell_type": "markdown",
   "id": "empty-guatemala",
   "metadata": {},
   "source": [
    "This is a testing notebook to make sure that we the code right first"
   ]
  },
  {
   "cell_type": "code",
   "execution_count": 1,
   "id": "innocent-cooperation",
   "metadata": {},
   "outputs": [],
   "source": [
    "%%init_spark\n",
    "launcher.master = \"spark://spark-master:7077\"\n",
    "launcher.num_executors = 2\n",
    "launcher.executor_cores = 8\n",
    "launcher.executor_memory = '16G'\n",
    "launcher.packages = [\"com.amazon.deequ:deequ:1.2.2-spark-3.0\",\n",
    "                    \"org.apache.hadoop:hadoop-aws:3.2.0\",\n",
    "                    \"org.locationtech.geomesa:geomesa-spark-jts_2.12:3.2.0\"]\n",
    "launcher.conf.set(\"spark.hadoop.fs.s3a.aws.credentials.provider\", \n",
    "                  \"org.apache.hadoop.fs.s3a.AnonymousAWSCredentialsProvider\")"
   ]
  },
  {
   "cell_type": "code",
   "execution_count": 2,
   "id": "advance-consensus",
   "metadata": {},
   "outputs": [
    {
     "data": {
      "text/plain": [
       "Intitializing Scala interpreter ..."
      ]
     },
     "metadata": {},
     "output_type": "display_data"
    },
    {
     "data": {
      "text/plain": [
       "Spark Web UI available at http://7847ea2e55be:4040\n",
       "SparkContext available as 'sc' (version = 3.1.1, master = spark://spark-master:7077, app id = app-20210526113541-0004)\n",
       "SparkSession available as 'spark'\n"
      ]
     },
     "metadata": {},
     "output_type": "display_data"
    },
    {
     "data": {
      "text/plain": [
       "res0: org.apache.spark.sql.SparkSession = org.apache.spark.sql.SparkSession@6d3cbc40\n"
      ]
     },
     "execution_count": 2,
     "metadata": {},
     "output_type": "execute_result"
    }
   ],
   "source": [
    "spark"
   ]
  },
  {
   "cell_type": "code",
   "execution_count": 3,
   "id": "secret-batch",
   "metadata": {},
   "outputs": [
    {
     "data": {
      "text/plain": [
       "res1: String = 3.1.1\n"
      ]
     },
     "execution_count": 3,
     "metadata": {},
     "output_type": "execute_result"
    }
   ],
   "source": [
    "spark.version"
   ]
  },
  {
   "cell_type": "code",
   "execution_count": 4,
   "id": "revolutionary-authentication",
   "metadata": {},
   "outputs": [
    {
     "data": {
      "text/plain": [
       "import org.apache.spark.sql.SparkSession\n",
       "import com.amazon.deequ.VerificationSuite\n",
       "import com.amazon.deequ.checks.{Check, CheckLevel, CheckStatus}\n",
       "import com.amazon.deequ.constraints.ConstraintStatus\n",
       "import java.net.{URI, URLEncoder}\n",
       "import org.apache.hadoop.fs.{FileSystem, Path, RemoteIterator, LocatedFileStatus}\n",
       "import scala.collection.mutable.ListBuffer\n"
      ]
     },
     "execution_count": 4,
     "metadata": {},
     "output_type": "execute_result"
    }
   ],
   "source": [
    "import org.apache.spark.sql.SparkSession\n",
    "import com.amazon.deequ.VerificationSuite\n",
    "import com.amazon.deequ.checks.{Check, CheckLevel, CheckStatus}\n",
    "import com.amazon.deequ.constraints.ConstraintStatus\n",
    "import java.net.{URI, URLEncoder}\n",
    "import org.apache.hadoop.fs.{FileSystem, Path, RemoteIterator, LocatedFileStatus}\n",
    "import scala.collection.mutable.ListBuffer"
   ]
  },
  {
   "cell_type": "markdown",
   "id": "biological-calvin",
   "metadata": {},
   "source": [
    "# Check Raw Bucket Contents\n",
    "\n",
    "Checking what data is in the Raw TLC bucket data"
   ]
  },
  {
   "cell_type": "code",
   "execution_count": 5,
   "id": "functional-retreat",
   "metadata": {},
   "outputs": [
    {
     "data": {
      "text/plain": [
       "rawS3Dir: String = s3a://nyc-tlc/\n",
       "fileSystem: org.apache.hadoop.fs.FileSystem = S3AFileSystem{uri=s3a://nyc-tlc, workingDir=s3a://nyc-tlc/user/jovyan, inputPolicy=normal, partSize=104857600, enableMultiObjectsDelete=true, maxKeys=5000, readAhead=65536, blockSize=33554432, multiPartThreshold=2147483647, serverSideEncryptionAlgorithm='NONE', blockFactory=org.apache.hadoop.fs.s3a.S3ADataBlocks$DiskBlockFactory@26b4e484, metastore=NullMetadataStore, authoritative=false, useListV1=false, magicCommitter=false, boundedExecutor=BlockingThreadPoolExecutorService{SemaphoredDelegatingExecutor{permitCount=25, available=25, waiting=0}, activeCount=0}, unboundedExecutor=java.util.concurrent.ThreadPoolExecutor@43bf9197[Running, pool size = 0, active threads = 0, queued tasks = 0, completed tasks = 0],...\n"
      ]
     },
     "execution_count": 5,
     "metadata": {},
     "output_type": "execute_result"
    }
   ],
   "source": [
    "val rawS3Dir = \"s3a://nyc-tlc/\"\n",
    "//val fileSystem = FileSystem.get(URI.create(rawS3Dir), new Configuration())\n",
    "val fileSystem = FileSystem.get(URI.create(rawS3Dir), spark.sparkContext.hadoopConfiguration)\n",
    "val itemlist = fileSystem.listFiles(new Path(rawS3Dir), true)       "
   ]
  },
  {
   "cell_type": "code",
   "execution_count": 6,
   "id": "acoustic-scoop",
   "metadata": {},
   "outputs": [
    {
     "data": {
      "text/plain": [
       "limit: Int = 100000\n",
       "cnt: Int = 1\n"
      ]
     },
     "execution_count": 6,
     "metadata": {},
     "output_type": "execute_result"
    }
   ],
   "source": [
    "val limit = 100000\n",
    "var cnt = 1"
   ]
  },
  {
   "cell_type": "code",
   "execution_count": 7,
   "id": "major-relation",
   "metadata": {},
   "outputs": [
    {
     "data": {
      "text/plain": [
       "loopy: (iter: org.apache.hadoop.fs.RemoteIterator[org.apache.hadoop.fs.LocatedFileStatus])scala.collection.mutable.ListBuffer[String]\n"
      ]
     },
     "execution_count": 7,
     "metadata": {},
     "output_type": "execute_result"
    }
   ],
   "source": [
    "def loopy(iter: RemoteIterator[LocatedFileStatus]) : ListBuffer[String] = {\n",
    "\n",
    "    var files = new ListBuffer[String]()\n",
    "            \n",
    "    while(cnt <  limit) {\n",
    "        if (iter.hasNext) {\n",
    "            val uri = iter.next.getPath.toUri.toString\n",
    "            files += uri\n",
    "            cnt += 1\n",
    "        } else {\n",
    "            cnt += 1\n",
    "        }\n",
    "    }\n",
    "    return files \n",
    "}"
   ]
  },
  {
   "cell_type": "code",
   "execution_count": 8,
   "id": "transsexual-ground",
   "metadata": {},
   "outputs": [
    {
     "data": {
      "text/plain": [
       "fileList: List[String] = List(s3a://nyc-tlc/misc/FOIL_2017-12-04.csv, s3a://nyc-tlc/misc/FOIL_fhv_trips_june17.csv, s3a://nyc-tlc/misc/FOIL_medallion_trips_june17.csv, s3a://nyc-tlc/misc/FOIL_weekly_trips_apps.csv, s3a://nyc-tlc/misc/FOIL_weekly_trips_yellow.csv, s3a://nyc-tlc/misc/FOIL_yellow_trips_deadhead.csv, s3a://nyc-tlc/misc/FOIL_yellow_trips_deadhead_apr13.csv, s3a://nyc-tlc/misc/foil26707_1.csv, s3a://nyc-tlc/misc/foil26707_2.csv, s3a://nyc-tlc/misc/foil26707_3.csv, s3a://nyc-tlc/misc/foil26707_4.csv, s3a://nyc-tlc/misc/shared_rides_by_puzone_monthly.csv, s3a://nyc-tlc/misc/taxi%20_zone_lookup.csv, s3a://nyc-tlc/misc/taxi_zones.html, s3a://nyc-tlc/misc/taxi_zones.zip, s3a://nyc-tlc/misc/uber_nyc_data.csv, s3a://nyc-tlc/trip%20data/fhv_tripdata_2015-01.csv, s3a://nyc-tlc/trip%20...\n"
      ]
     },
     "execution_count": 8,
     "metadata": {},
     "output_type": "execute_result"
    }
   ],
   "source": [
    "val fileList = loopy(itemlist).toList"
   ]
  },
  {
   "cell_type": "code",
   "execution_count": 16,
   "id": "recorded-document",
   "metadata": {},
   "outputs": [
    {
     "name": "stdout",
     "output_type": "stream",
     "text": [
      "s3a://nyc-tlc/misc/FOIL_2017-12-04.csv\n",
      "s3a://nyc-tlc/misc/FOIL_fhv_trips_june17.csv\n",
      "s3a://nyc-tlc/misc/FOIL_medallion_trips_june17.csv\n",
      "s3a://nyc-tlc/misc/FOIL_weekly_trips_apps.csv\n",
      "s3a://nyc-tlc/misc/FOIL_weekly_trips_yellow.csv\n",
      "s3a://nyc-tlc/misc/FOIL_yellow_trips_deadhead.csv\n",
      "s3a://nyc-tlc/misc/FOIL_yellow_trips_deadhead_apr13.csv\n",
      "s3a://nyc-tlc/misc/foil26707_1.csv\n",
      "s3a://nyc-tlc/misc/foil26707_2.csv\n",
      "s3a://nyc-tlc/misc/foil26707_3.csv\n",
      "s3a://nyc-tlc/misc/foil26707_4.csv\n",
      "s3a://nyc-tlc/misc/shared_rides_by_puzone_monthly.csv\n",
      "s3a://nyc-tlc/misc/taxi%20_zone_lookup.csv\n",
      "s3a://nyc-tlc/misc/taxi_zones.html\n",
      "s3a://nyc-tlc/misc/taxi_zones.zip\n",
      "s3a://nyc-tlc/misc/uber_nyc_data.csv\n",
      "s3a://nyc-tlc/trip%20data/fhv_tripdata_2015-01.csv\n",
      "s3a://nyc-tlc/trip%20data/fhv_tripdata_2015-02.csv\n",
      "s3a://nyc-tlc/trip%20data/fhv_tripdata_2015-03.csv\n",
      "s3a://nyc-tlc/trip%20data/fhv_tripdata_2015-04.csv\n",
      "s3a://nyc-tlc/trip%20data/fhv_tripdata_2015-05.csv\n",
      "s3a://nyc-tlc/trip%20data/fhv_tripdata_2015-06.csv\n",
      "s3a://nyc-tlc/trip%20data/fhv_tripdata_2015-07.csv\n",
      "s3a://nyc-tlc/trip%20data/fhv_tripdata_2015-08.csv\n",
      "s3a://nyc-tlc/trip%20data/fhv_tripdata_2015-09.csv\n",
      "s3a://nyc-tlc/trip%20data/fhv_tripdata_2015-10.csv\n",
      "s3a://nyc-tlc/trip%20data/fhv_tripdata_2015-11.csv\n",
      "s3a://nyc-tlc/trip%20data/fhv_tripdata_2015-12.csv\n",
      "s3a://nyc-tlc/trip%20data/fhv_tripdata_2016-01.csv\n",
      "s3a://nyc-tlc/trip%20data/fhv_tripdata_2016-02.csv\n",
      "s3a://nyc-tlc/trip%20data/fhv_tripdata_2016-03.csv\n",
      "s3a://nyc-tlc/trip%20data/fhv_tripdata_2016-04.csv\n",
      "s3a://nyc-tlc/trip%20data/fhv_tripdata_2016-05.csv\n",
      "s3a://nyc-tlc/trip%20data/fhv_tripdata_2016-06.csv\n",
      "s3a://nyc-tlc/trip%20data/fhv_tripdata_2016-07.csv\n",
      "s3a://nyc-tlc/trip%20data/fhv_tripdata_2016-08.csv\n",
      "s3a://nyc-tlc/trip%20data/fhv_tripdata_2016-09.csv\n",
      "s3a://nyc-tlc/trip%20data/fhv_tripdata_2016-10.csv\n",
      "s3a://nyc-tlc/trip%20data/fhv_tripdata_2016-11.csv\n",
      "s3a://nyc-tlc/trip%20data/fhv_tripdata_2016-12.csv\n",
      "s3a://nyc-tlc/trip%20data/fhv_tripdata_2017-01.csv\n",
      "s3a://nyc-tlc/trip%20data/fhv_tripdata_2017-02.csv\n",
      "s3a://nyc-tlc/trip%20data/fhv_tripdata_2017-03.csv\n",
      "s3a://nyc-tlc/trip%20data/fhv_tripdata_2017-04.csv\n",
      "s3a://nyc-tlc/trip%20data/fhv_tripdata_2017-05.csv\n",
      "s3a://nyc-tlc/trip%20data/fhv_tripdata_2017-06.csv\n",
      "s3a://nyc-tlc/trip%20data/fhv_tripdata_2017-07.csv\n",
      "s3a://nyc-tlc/trip%20data/fhv_tripdata_2017-08.csv\n",
      "s3a://nyc-tlc/trip%20data/fhv_tripdata_2017-09.csv\n",
      "s3a://nyc-tlc/trip%20data/fhv_tripdata_2017-10.csv\n",
      "s3a://nyc-tlc/trip%20data/fhv_tripdata_2017-11.csv\n",
      "s3a://nyc-tlc/trip%20data/fhv_tripdata_2017-12.csv\n",
      "s3a://nyc-tlc/trip%20data/fhv_tripdata_2018-01.csv\n",
      "s3a://nyc-tlc/trip%20data/fhv_tripdata_2018-02.csv\n",
      "s3a://nyc-tlc/trip%20data/fhv_tripdata_2018-03.csv\n",
      "s3a://nyc-tlc/trip%20data/fhv_tripdata_2018-04.csv\n",
      "s3a://nyc-tlc/trip%20data/fhv_tripdata_2018-05.csv\n",
      "s3a://nyc-tlc/trip%20data/fhv_tripdata_2018-06.csv\n",
      "s3a://nyc-tlc/trip%20data/fhv_tripdata_2018-07.csv\n",
      "s3a://nyc-tlc/trip%20data/fhv_tripdata_2018-08.csv\n",
      "s3a://nyc-tlc/trip%20data/fhv_tripdata_2018-09.csv\n",
      "s3a://nyc-tlc/trip%20data/fhv_tripdata_2018-10.csv\n",
      "s3a://nyc-tlc/trip%20data/fhv_tripdata_2018-11.csv\n",
      "s3a://nyc-tlc/trip%20data/fhv_tripdata_2018-12.csv\n",
      "s3a://nyc-tlc/trip%20data/fhv_tripdata_2019-01.csv\n",
      "s3a://nyc-tlc/trip%20data/fhv_tripdata_2019-02.csv\n",
      "s3a://nyc-tlc/trip%20data/fhv_tripdata_2019-03.csv\n",
      "s3a://nyc-tlc/trip%20data/fhv_tripdata_2019-04.csv\n",
      "s3a://nyc-tlc/trip%20data/fhv_tripdata_2019-05.csv\n",
      "s3a://nyc-tlc/trip%20data/fhv_tripdata_2019-06.csv\n",
      "s3a://nyc-tlc/trip%20data/fhv_tripdata_2019-07.csv\n",
      "s3a://nyc-tlc/trip%20data/fhv_tripdata_2019-08.csv\n",
      "s3a://nyc-tlc/trip%20data/fhv_tripdata_2019-09.csv\n",
      "s3a://nyc-tlc/trip%20data/fhv_tripdata_2019-10.csv\n",
      "s3a://nyc-tlc/trip%20data/fhv_tripdata_2019-11.csv\n",
      "s3a://nyc-tlc/trip%20data/fhv_tripdata_2019-12.csv\n",
      "s3a://nyc-tlc/trip%20data/fhv_tripdata_2020-01.csv\n",
      "s3a://nyc-tlc/trip%20data/fhv_tripdata_2020-02.csv\n",
      "s3a://nyc-tlc/trip%20data/fhv_tripdata_2020-03.csv\n",
      "s3a://nyc-tlc/trip%20data/fhv_tripdata_2020-04.csv\n",
      "s3a://nyc-tlc/trip%20data/fhv_tripdata_2020-05.csv\n",
      "s3a://nyc-tlc/trip%20data/fhv_tripdata_2020-06.csv\n",
      "s3a://nyc-tlc/trip%20data/fhv_tripdata_2020-07.csv\n",
      "s3a://nyc-tlc/trip%20data/fhv_tripdata_2020-08.csv\n",
      "s3a://nyc-tlc/trip%20data/fhv_tripdata_2020-09.csv\n",
      "s3a://nyc-tlc/trip%20data/fhv_tripdata_2020-10.csv\n",
      "s3a://nyc-tlc/trip%20data/fhv_tripdata_2020-11.csv\n",
      "s3a://nyc-tlc/trip%20data/fhv_tripdata_2020-12.csv\n",
      "s3a://nyc-tlc/trip%20data/fhvhv_tripdata_2019-02.csv\n",
      "s3a://nyc-tlc/trip%20data/fhvhv_tripdata_2019-03.csv\n",
      "s3a://nyc-tlc/trip%20data/fhvhv_tripdata_2019-04.csv\n",
      "s3a://nyc-tlc/trip%20data/fhvhv_tripdata_2019-05.csv\n",
      "s3a://nyc-tlc/trip%20data/fhvhv_tripdata_2019-06.csv\n",
      "s3a://nyc-tlc/trip%20data/fhvhv_tripdata_2019-07.csv\n",
      "s3a://nyc-tlc/trip%20data/fhvhv_tripdata_2019-08.csv\n",
      "s3a://nyc-tlc/trip%20data/fhvhv_tripdata_2019-09.csv\n",
      "s3a://nyc-tlc/trip%20data/fhvhv_tripdata_2019-10.csv\n",
      "s3a://nyc-tlc/trip%20data/fhvhv_tripdata_2019-11.csv\n",
      "s3a://nyc-tlc/trip%20data/fhvhv_tripdata_2019-12.csv\n",
      "s3a://nyc-tlc/trip%20data/fhvhv_tripdata_2020-01.csv\n",
      "s3a://nyc-tlc/trip%20data/fhvhv_tripdata_2020-02.csv\n",
      "s3a://nyc-tlc/trip%20data/fhvhv_tripdata_2020-03.csv\n",
      "s3a://nyc-tlc/trip%20data/fhvhv_tripdata_2020-04.csv\n",
      "s3a://nyc-tlc/trip%20data/fhvhv_tripdata_2020-05.csv\n",
      "s3a://nyc-tlc/trip%20data/fhvhv_tripdata_2020-06.csv\n",
      "s3a://nyc-tlc/trip%20data/fhvhv_tripdata_2020-07.csv\n",
      "s3a://nyc-tlc/trip%20data/fhvhv_tripdata_2020-08.csv\n",
      "s3a://nyc-tlc/trip%20data/fhvhv_tripdata_2020-09.csv\n",
      "s3a://nyc-tlc/trip%20data/fhvhv_tripdata_2020-10.csv\n",
      "s3a://nyc-tlc/trip%20data/fhvhv_tripdata_2020-11.csv\n",
      "s3a://nyc-tlc/trip%20data/fhvhv_tripdata_2020-12.csv\n",
      "s3a://nyc-tlc/trip%20data/green_tripdata_2013-08.csv\n",
      "s3a://nyc-tlc/trip%20data/green_tripdata_2013-09.csv\n",
      "s3a://nyc-tlc/trip%20data/green_tripdata_2013-10.csv\n",
      "s3a://nyc-tlc/trip%20data/green_tripdata_2013-11.csv\n",
      "s3a://nyc-tlc/trip%20data/green_tripdata_2013-12.csv\n",
      "s3a://nyc-tlc/trip%20data/green_tripdata_2014-01.csv\n",
      "s3a://nyc-tlc/trip%20data/green_tripdata_2014-02.csv\n",
      "s3a://nyc-tlc/trip%20data/green_tripdata_2014-03.csv\n",
      "s3a://nyc-tlc/trip%20data/green_tripdata_2014-04.csv\n",
      "s3a://nyc-tlc/trip%20data/green_tripdata_2014-05.csv\n",
      "s3a://nyc-tlc/trip%20data/green_tripdata_2014-06.csv\n",
      "s3a://nyc-tlc/trip%20data/green_tripdata_2014-07.csv\n",
      "s3a://nyc-tlc/trip%20data/green_tripdata_2014-08.csv\n",
      "s3a://nyc-tlc/trip%20data/green_tripdata_2014-09.csv\n",
      "s3a://nyc-tlc/trip%20data/green_tripdata_2014-10.csv\n",
      "s3a://nyc-tlc/trip%20data/green_tripdata_2014-11.csv\n",
      "s3a://nyc-tlc/trip%20data/green_tripdata_2014-12.csv\n",
      "s3a://nyc-tlc/trip%20data/green_tripdata_2015-01.csv\n",
      "s3a://nyc-tlc/trip%20data/green_tripdata_2015-02.csv\n",
      "s3a://nyc-tlc/trip%20data/green_tripdata_2015-03.csv\n",
      "s3a://nyc-tlc/trip%20data/green_tripdata_2015-04.csv\n",
      "s3a://nyc-tlc/trip%20data/green_tripdata_2015-05.csv\n",
      "s3a://nyc-tlc/trip%20data/green_tripdata_2015-06.csv\n",
      "s3a://nyc-tlc/trip%20data/green_tripdata_2015-07.csv\n",
      "s3a://nyc-tlc/trip%20data/green_tripdata_2015-08.csv\n",
      "s3a://nyc-tlc/trip%20data/green_tripdata_2015-09.csv\n",
      "s3a://nyc-tlc/trip%20data/green_tripdata_2015-10.csv\n",
      "s3a://nyc-tlc/trip%20data/green_tripdata_2015-11.csv\n",
      "s3a://nyc-tlc/trip%20data/green_tripdata_2015-12.csv\n",
      "s3a://nyc-tlc/trip%20data/green_tripdata_2016-01.csv\n",
      "s3a://nyc-tlc/trip%20data/green_tripdata_2016-02.csv\n",
      "s3a://nyc-tlc/trip%20data/green_tripdata_2016-03.csv\n",
      "s3a://nyc-tlc/trip%20data/green_tripdata_2016-04.csv\n",
      "s3a://nyc-tlc/trip%20data/green_tripdata_2016-05.csv\n",
      "s3a://nyc-tlc/trip%20data/green_tripdata_2016-06.csv\n",
      "s3a://nyc-tlc/trip%20data/green_tripdata_2016-07.csv\n",
      "s3a://nyc-tlc/trip%20data/green_tripdata_2016-08.csv\n",
      "s3a://nyc-tlc/trip%20data/green_tripdata_2016-09.csv\n",
      "s3a://nyc-tlc/trip%20data/green_tripdata_2016-10.csv\n",
      "s3a://nyc-tlc/trip%20data/green_tripdata_2016-11.csv\n",
      "s3a://nyc-tlc/trip%20data/green_tripdata_2016-12.csv\n",
      "s3a://nyc-tlc/trip%20data/green_tripdata_2017-01.csv\n",
      "s3a://nyc-tlc/trip%20data/green_tripdata_2017-02.csv\n",
      "s3a://nyc-tlc/trip%20data/green_tripdata_2017-03.csv\n",
      "s3a://nyc-tlc/trip%20data/green_tripdata_2017-04.csv\n",
      "s3a://nyc-tlc/trip%20data/green_tripdata_2017-05.csv\n",
      "s3a://nyc-tlc/trip%20data/green_tripdata_2017-06.csv\n",
      "s3a://nyc-tlc/trip%20data/green_tripdata_2017-07.csv\n",
      "s3a://nyc-tlc/trip%20data/green_tripdata_2017-08.csv\n",
      "s3a://nyc-tlc/trip%20data/green_tripdata_2017-09.csv\n",
      "s3a://nyc-tlc/trip%20data/green_tripdata_2017-10.csv\n",
      "s3a://nyc-tlc/trip%20data/green_tripdata_2017-11.csv\n",
      "s3a://nyc-tlc/trip%20data/green_tripdata_2017-12.csv\n",
      "s3a://nyc-tlc/trip%20data/green_tripdata_2018-01.csv\n",
      "s3a://nyc-tlc/trip%20data/green_tripdata_2018-02.csv\n",
      "s3a://nyc-tlc/trip%20data/green_tripdata_2018-03.csv\n",
      "s3a://nyc-tlc/trip%20data/green_tripdata_2018-04.csv\n",
      "s3a://nyc-tlc/trip%20data/green_tripdata_2018-05.csv\n",
      "s3a://nyc-tlc/trip%20data/green_tripdata_2018-06.csv\n",
      "s3a://nyc-tlc/trip%20data/green_tripdata_2018-07.csv\n",
      "s3a://nyc-tlc/trip%20data/green_tripdata_2018-08.csv\n",
      "s3a://nyc-tlc/trip%20data/green_tripdata_2018-09.csv\n",
      "s3a://nyc-tlc/trip%20data/green_tripdata_2018-10.csv\n",
      "s3a://nyc-tlc/trip%20data/green_tripdata_2018-11.csv\n",
      "s3a://nyc-tlc/trip%20data/green_tripdata_2018-12.csv\n",
      "s3a://nyc-tlc/trip%20data/green_tripdata_2019-01.csv\n",
      "s3a://nyc-tlc/trip%20data/green_tripdata_2019-02.csv\n",
      "s3a://nyc-tlc/trip%20data/green_tripdata_2019-03.csv\n",
      "s3a://nyc-tlc/trip%20data/green_tripdata_2019-04.csv\n",
      "s3a://nyc-tlc/trip%20data/green_tripdata_2019-05.csv\n",
      "s3a://nyc-tlc/trip%20data/green_tripdata_2019-06.csv\n",
      "s3a://nyc-tlc/trip%20data/green_tripdata_2019-07.csv\n",
      "s3a://nyc-tlc/trip%20data/green_tripdata_2019-08.csv\n",
      "s3a://nyc-tlc/trip%20data/green_tripdata_2019-09.csv\n",
      "s3a://nyc-tlc/trip%20data/green_tripdata_2019-10.csv\n",
      "s3a://nyc-tlc/trip%20data/green_tripdata_2019-11.csv\n",
      "s3a://nyc-tlc/trip%20data/green_tripdata_2019-12.csv\n",
      "s3a://nyc-tlc/trip%20data/green_tripdata_2020-01.csv\n",
      "s3a://nyc-tlc/trip%20data/green_tripdata_2020-02.csv\n",
      "s3a://nyc-tlc/trip%20data/green_tripdata_2020-03.csv\n",
      "s3a://nyc-tlc/trip%20data/green_tripdata_2020-04.csv\n",
      "s3a://nyc-tlc/trip%20data/green_tripdata_2020-05.csv\n",
      "s3a://nyc-tlc/trip%20data/green_tripdata_2020-06.csv\n",
      "s3a://nyc-tlc/trip%20data/green_tripdata_2020-07.csv\n",
      "s3a://nyc-tlc/trip%20data/green_tripdata_2020-08.csv\n",
      "s3a://nyc-tlc/trip%20data/green_tripdata_2020-09.csv\n",
      "s3a://nyc-tlc/trip%20data/green_tripdata_2020-10.csv\n",
      "s3a://nyc-tlc/trip%20data/green_tripdata_2020-11.csv\n",
      "s3a://nyc-tlc/trip%20data/green_tripdata_2020-12.csv\n",
      "s3a://nyc-tlc/trip%20data/yellow_tripdata_2009-01.csv\n",
      "s3a://nyc-tlc/trip%20data/yellow_tripdata_2009-02.csv\n",
      "s3a://nyc-tlc/trip%20data/yellow_tripdata_2009-03.csv\n",
      "s3a://nyc-tlc/trip%20data/yellow_tripdata_2009-04.csv\n",
      "s3a://nyc-tlc/trip%20data/yellow_tripdata_2009-05.csv\n",
      "s3a://nyc-tlc/trip%20data/yellow_tripdata_2009-06.csv\n",
      "s3a://nyc-tlc/trip%20data/yellow_tripdata_2009-07.csv\n",
      "s3a://nyc-tlc/trip%20data/yellow_tripdata_2009-08.csv\n",
      "s3a://nyc-tlc/trip%20data/yellow_tripdata_2009-09.csv\n",
      "s3a://nyc-tlc/trip%20data/yellow_tripdata_2009-10.csv\n",
      "s3a://nyc-tlc/trip%20data/yellow_tripdata_2009-11.csv\n",
      "s3a://nyc-tlc/trip%20data/yellow_tripdata_2009-12.csv\n",
      "s3a://nyc-tlc/trip%20data/yellow_tripdata_2010-01.csv\n",
      "s3a://nyc-tlc/trip%20data/yellow_tripdata_2010-02.csv\n",
      "s3a://nyc-tlc/trip%20data/yellow_tripdata_2010-03.csv\n",
      "s3a://nyc-tlc/trip%20data/yellow_tripdata_2010-04.csv\n",
      "s3a://nyc-tlc/trip%20data/yellow_tripdata_2010-05.csv\n",
      "s3a://nyc-tlc/trip%20data/yellow_tripdata_2010-06.csv\n",
      "s3a://nyc-tlc/trip%20data/yellow_tripdata_2010-07.csv\n",
      "s3a://nyc-tlc/trip%20data/yellow_tripdata_2010-08.csv\n",
      "s3a://nyc-tlc/trip%20data/yellow_tripdata_2010-09.csv\n",
      "s3a://nyc-tlc/trip%20data/yellow_tripdata_2010-10.csv\n",
      "s3a://nyc-tlc/trip%20data/yellow_tripdata_2010-11.csv\n",
      "s3a://nyc-tlc/trip%20data/yellow_tripdata_2010-12.csv\n",
      "s3a://nyc-tlc/trip%20data/yellow_tripdata_2011-01.csv\n",
      "s3a://nyc-tlc/trip%20data/yellow_tripdata_2011-02.csv\n",
      "s3a://nyc-tlc/trip%20data/yellow_tripdata_2011-03.csv\n",
      "s3a://nyc-tlc/trip%20data/yellow_tripdata_2011-04.csv\n",
      "s3a://nyc-tlc/trip%20data/yellow_tripdata_2011-05.csv\n",
      "s3a://nyc-tlc/trip%20data/yellow_tripdata_2011-06.csv\n",
      "s3a://nyc-tlc/trip%20data/yellow_tripdata_2011-07.csv\n",
      "s3a://nyc-tlc/trip%20data/yellow_tripdata_2011-08.csv\n",
      "s3a://nyc-tlc/trip%20data/yellow_tripdata_2011-09.csv\n",
      "s3a://nyc-tlc/trip%20data/yellow_tripdata_2011-10.csv\n",
      "s3a://nyc-tlc/trip%20data/yellow_tripdata_2011-11.csv\n",
      "s3a://nyc-tlc/trip%20data/yellow_tripdata_2011-12.csv\n",
      "s3a://nyc-tlc/trip%20data/yellow_tripdata_2012-01.csv\n",
      "s3a://nyc-tlc/trip%20data/yellow_tripdata_2012-02.csv\n",
      "s3a://nyc-tlc/trip%20data/yellow_tripdata_2012-03.csv\n",
      "s3a://nyc-tlc/trip%20data/yellow_tripdata_2012-04.csv\n",
      "s3a://nyc-tlc/trip%20data/yellow_tripdata_2012-05.csv\n",
      "s3a://nyc-tlc/trip%20data/yellow_tripdata_2012-06.csv\n",
      "s3a://nyc-tlc/trip%20data/yellow_tripdata_2012-07.csv\n",
      "s3a://nyc-tlc/trip%20data/yellow_tripdata_2012-08.csv\n",
      "s3a://nyc-tlc/trip%20data/yellow_tripdata_2012-09.csv\n",
      "s3a://nyc-tlc/trip%20data/yellow_tripdata_2012-10.csv\n",
      "s3a://nyc-tlc/trip%20data/yellow_tripdata_2012-11.csv\n",
      "s3a://nyc-tlc/trip%20data/yellow_tripdata_2012-12.csv\n",
      "s3a://nyc-tlc/trip%20data/yellow_tripdata_2013-01.csv\n",
      "s3a://nyc-tlc/trip%20data/yellow_tripdata_2013-02.csv\n",
      "s3a://nyc-tlc/trip%20data/yellow_tripdata_2013-03.csv\n",
      "s3a://nyc-tlc/trip%20data/yellow_tripdata_2013-04.csv\n",
      "s3a://nyc-tlc/trip%20data/yellow_tripdata_2013-05.csv\n",
      "s3a://nyc-tlc/trip%20data/yellow_tripdata_2013-06.csv\n",
      "s3a://nyc-tlc/trip%20data/yellow_tripdata_2013-07.csv\n",
      "s3a://nyc-tlc/trip%20data/yellow_tripdata_2013-08.csv\n",
      "s3a://nyc-tlc/trip%20data/yellow_tripdata_2013-09.csv\n",
      "s3a://nyc-tlc/trip%20data/yellow_tripdata_2013-10.csv\n",
      "s3a://nyc-tlc/trip%20data/yellow_tripdata_2013-11.csv\n",
      "s3a://nyc-tlc/trip%20data/yellow_tripdata_2013-12.csv\n",
      "s3a://nyc-tlc/trip%20data/yellow_tripdata_2014-01.csv\n",
      "s3a://nyc-tlc/trip%20data/yellow_tripdata_2014-02.csv\n",
      "s3a://nyc-tlc/trip%20data/yellow_tripdata_2014-03.csv\n",
      "s3a://nyc-tlc/trip%20data/yellow_tripdata_2014-04.csv\n",
      "s3a://nyc-tlc/trip%20data/yellow_tripdata_2014-05.csv\n",
      "s3a://nyc-tlc/trip%20data/yellow_tripdata_2014-06.csv\n",
      "s3a://nyc-tlc/trip%20data/yellow_tripdata_2014-07.csv\n",
      "s3a://nyc-tlc/trip%20data/yellow_tripdata_2014-08.csv\n",
      "s3a://nyc-tlc/trip%20data/yellow_tripdata_2014-09.csv\n",
      "s3a://nyc-tlc/trip%20data/yellow_tripdata_2014-10.csv\n",
      "s3a://nyc-tlc/trip%20data/yellow_tripdata_2014-11.csv\n",
      "s3a://nyc-tlc/trip%20data/yellow_tripdata_2014-12.csv\n",
      "s3a://nyc-tlc/trip%20data/yellow_tripdata_2015-01.csv\n",
      "s3a://nyc-tlc/trip%20data/yellow_tripdata_2015-02.csv\n",
      "s3a://nyc-tlc/trip%20data/yellow_tripdata_2015-03.csv\n",
      "s3a://nyc-tlc/trip%20data/yellow_tripdata_2015-04.csv\n",
      "s3a://nyc-tlc/trip%20data/yellow_tripdata_2015-05.csv\n",
      "s3a://nyc-tlc/trip%20data/yellow_tripdata_2015-06.csv\n",
      "s3a://nyc-tlc/trip%20data/yellow_tripdata_2015-07.csv\n",
      "s3a://nyc-tlc/trip%20data/yellow_tripdata_2015-08.csv\n",
      "s3a://nyc-tlc/trip%20data/yellow_tripdata_2015-09.csv\n",
      "s3a://nyc-tlc/trip%20data/yellow_tripdata_2015-10.csv\n",
      "s3a://nyc-tlc/trip%20data/yellow_tripdata_2015-11.csv\n",
      "s3a://nyc-tlc/trip%20data/yellow_tripdata_2015-12.csv\n",
      "s3a://nyc-tlc/trip%20data/yellow_tripdata_2016-01.csv\n",
      "s3a://nyc-tlc/trip%20data/yellow_tripdata_2016-02.csv\n",
      "s3a://nyc-tlc/trip%20data/yellow_tripdata_2016-03.csv\n",
      "s3a://nyc-tlc/trip%20data/yellow_tripdata_2016-04.csv\n",
      "s3a://nyc-tlc/trip%20data/yellow_tripdata_2016-05.csv\n",
      "s3a://nyc-tlc/trip%20data/yellow_tripdata_2016-06.csv\n",
      "s3a://nyc-tlc/trip%20data/yellow_tripdata_2016-07.csv\n",
      "s3a://nyc-tlc/trip%20data/yellow_tripdata_2016-08.csv\n",
      "s3a://nyc-tlc/trip%20data/yellow_tripdata_2016-09.csv\n",
      "s3a://nyc-tlc/trip%20data/yellow_tripdata_2016-10.csv\n",
      "s3a://nyc-tlc/trip%20data/yellow_tripdata_2016-11.csv\n",
      "s3a://nyc-tlc/trip%20data/yellow_tripdata_2016-12.csv\n",
      "s3a://nyc-tlc/trip%20data/yellow_tripdata_2017-01.csv\n",
      "s3a://nyc-tlc/trip%20data/yellow_tripdata_2017-02.csv\n",
      "s3a://nyc-tlc/trip%20data/yellow_tripdata_2017-03.csv\n",
      "s3a://nyc-tlc/trip%20data/yellow_tripdata_2017-04.csv\n",
      "s3a://nyc-tlc/trip%20data/yellow_tripdata_2017-05.csv\n",
      "s3a://nyc-tlc/trip%20data/yellow_tripdata_2017-06.csv\n",
      "s3a://nyc-tlc/trip%20data/yellow_tripdata_2017-07.csv\n",
      "s3a://nyc-tlc/trip%20data/yellow_tripdata_2017-08.csv\n",
      "s3a://nyc-tlc/trip%20data/yellow_tripdata_2017-09.csv\n",
      "s3a://nyc-tlc/trip%20data/yellow_tripdata_2017-10.csv\n",
      "s3a://nyc-tlc/trip%20data/yellow_tripdata_2017-11.csv\n",
      "s3a://nyc-tlc/trip%20data/yellow_tripdata_2017-12.csv\n",
      "s3a://nyc-tlc/trip%20data/yellow_tripdata_2018-01.csv\n",
      "s3a://nyc-tlc/trip%20data/yellow_tripdata_2018-02.csv\n",
      "s3a://nyc-tlc/trip%20data/yellow_tripdata_2018-03.csv\n",
      "s3a://nyc-tlc/trip%20data/yellow_tripdata_2018-04.csv\n",
      "s3a://nyc-tlc/trip%20data/yellow_tripdata_2018-05.csv\n",
      "s3a://nyc-tlc/trip%20data/yellow_tripdata_2018-06.csv\n",
      "s3a://nyc-tlc/trip%20data/yellow_tripdata_2018-07.csv\n",
      "s3a://nyc-tlc/trip%20data/yellow_tripdata_2018-08.csv\n",
      "s3a://nyc-tlc/trip%20data/yellow_tripdata_2018-09.csv\n",
      "s3a://nyc-tlc/trip%20data/yellow_tripdata_2018-10.csv\n",
      "s3a://nyc-tlc/trip%20data/yellow_tripdata_2018-11.csv\n",
      "s3a://nyc-tlc/trip%20data/yellow_tripdata_2018-12.csv\n",
      "s3a://nyc-tlc/trip%20data/yellow_tripdata_2019-01.csv\n",
      "s3a://nyc-tlc/trip%20data/yellow_tripdata_2019-02.csv\n",
      "s3a://nyc-tlc/trip%20data/yellow_tripdata_2019-03.csv\n",
      "s3a://nyc-tlc/trip%20data/yellow_tripdata_2019-04.csv\n",
      "s3a://nyc-tlc/trip%20data/yellow_tripdata_2019-05.csv\n",
      "s3a://nyc-tlc/trip%20data/yellow_tripdata_2019-06.csv\n",
      "s3a://nyc-tlc/trip%20data/yellow_tripdata_2019-07.csv\n",
      "s3a://nyc-tlc/trip%20data/yellow_tripdata_2019-08.csv\n",
      "s3a://nyc-tlc/trip%20data/yellow_tripdata_2019-09.csv\n",
      "s3a://nyc-tlc/trip%20data/yellow_tripdata_2019-10.csv\n",
      "s3a://nyc-tlc/trip%20data/yellow_tripdata_2019-11.csv\n",
      "s3a://nyc-tlc/trip%20data/yellow_tripdata_2019-12.csv\n",
      "s3a://nyc-tlc/trip%20data/yellow_tripdata_2020-01.csv\n",
      "s3a://nyc-tlc/trip%20data/yellow_tripdata_2020-02.csv\n",
      "s3a://nyc-tlc/trip%20data/yellow_tripdata_2020-03.csv\n",
      "s3a://nyc-tlc/trip%20data/yellow_tripdata_2020-04.csv\n",
      "s3a://nyc-tlc/trip%20data/yellow_tripdata_2020-05.csv\n",
      "s3a://nyc-tlc/trip%20data/yellow_tripdata_2020-06.csv\n",
      "s3a://nyc-tlc/trip%20data/yellow_tripdata_2020-07.csv\n",
      "s3a://nyc-tlc/trip%20data/yellow_tripdata_2020-08.csv\n",
      "s3a://nyc-tlc/trip%20data/yellow_tripdata_2020-09.csv\n",
      "s3a://nyc-tlc/trip%20data/yellow_tripdata_2020-10.csv\n",
      "s3a://nyc-tlc/trip%20data/yellow_tripdata_2020-11.csv\n",
      "s3a://nyc-tlc/trip%20data/yellow_tripdata_2020-12.csv\n"
     ]
    }
   ],
   "source": [
    "fileList.foreach { println }"
   ]
  },
  {
   "cell_type": "markdown",
   "id": "adverse-dylan",
   "metadata": {},
   "source": [
    "Check the specific trip data"
   ]
  },
  {
   "cell_type": "markdown",
   "id": "private-chance",
   "metadata": {},
   "source": [
    "Load the green trip data"
   ]
  },
  {
   "cell_type": "code",
   "execution_count": 5,
   "id": "provincial-headline",
   "metadata": {},
   "outputs": [
    {
     "data": {
      "text/plain": [
       "green_trip_data: String = s3a://nyc-tlc/trip data/green_tripdata_2018*.csv\n",
       "taxi_test: org.apache.spark.sql.DataFrame = [VendorID: string, lpep_pickup_datetime: string ... 17 more fields]\n"
      ]
     },
     "execution_count": 5,
     "metadata": {},
     "output_type": "execute_result"
    }
   ],
   "source": [
    "val green_trip_data = \"s3a://nyc-tlc/trip data/green_tripdata_2018*.csv\"\n",
    "val taxi_test = spark.read.option(\"header\", true).csv(green_trip_data)"
   ]
  },
  {
   "cell_type": "code",
   "execution_count": 6,
   "id": "widespread-weather",
   "metadata": {},
   "outputs": [
    {
     "name": "stdout",
     "output_type": "stream",
     "text": [
      "root\n",
      " |-- VendorID: string (nullable = true)\n",
      " |-- lpep_pickup_datetime: string (nullable = true)\n",
      " |-- lpep_dropoff_datetime: string (nullable = true)\n",
      " |-- store_and_fwd_flag: string (nullable = true)\n",
      " |-- RatecodeID: string (nullable = true)\n",
      " |-- PULocationID: string (nullable = true)\n",
      " |-- DOLocationID: string (nullable = true)\n",
      " |-- passenger_count: string (nullable = true)\n",
      " |-- trip_distance: string (nullable = true)\n",
      " |-- fare_amount: string (nullable = true)\n",
      " |-- extra: string (nullable = true)\n",
      " |-- mta_tax: string (nullable = true)\n",
      " |-- tip_amount: string (nullable = true)\n",
      " |-- tolls_amount: string (nullable = true)\n",
      " |-- ehail_fee: string (nullable = true)\n",
      " |-- improvement_surcharge: string (nullable = true)\n",
      " |-- total_amount: string (nullable = true)\n",
      " |-- payment_type: string (nullable = true)\n",
      " |-- trip_type: string (nullable = true)\n",
      "\n"
     ]
    }
   ],
   "source": [
    "taxi_test.printSchema()"
   ]
  },
  {
   "cell_type": "code",
   "execution_count": 11,
   "id": "meaningful-jefferson",
   "metadata": {},
   "outputs": [
    {
     "data": {
      "text/plain": [
       "verificationResult: com.amazon.deequ.VerificationResult = VerificationResult(Error,Map(Check(Error,unit testing my data,List(CompletenessConstraint(Completeness(lpep_pickup_datetime,None)), ComplianceConstraint(Compliance(fare_amount is non-negative,COALESCE(CAST(fare_amount AS DECIMAL(20,10)), 0.0) >= 0,None)))) -> CheckResult(Check(Error,unit testing my data,List(CompletenessConstraint(Completeness(lpep_pickup_datetime,None)), ComplianceConstraint(Compliance(fare_amount is non-negative,COALESCE(CAST(fare_amount AS DECIMAL(20,10)), 0.0) >= 0,None)))),Error,List(ConstraintResult(CompletenessConstraint(Completeness(lpep_pickup_datetime,None)),Success,None,Some(DoubleMetric(Column,Completeness,lpep_pickup_datetime,Success(1.0)))), ConstraintResult(ComplianceConstraint(Compliance(fare_amou...\n"
      ]
     },
     "execution_count": 11,
     "metadata": {},
     "output_type": "execute_result"
    }
   ],
   "source": [
    "// try deequ test\n",
    "val verificationResult = VerificationSuite()\n",
    "    .onData(taxi_test)\n",
    "    .addCheck(\n",
    "        Check(CheckLevel.Error, \"unit testing my data\")\n",
    "            .isComplete(\"lpep_pickup_datetime\")\n",
    "            .isNonNegative(\"fare_amount\")\n",
    "        )\n",
    "    .run()"
   ]
  },
  {
   "cell_type": "code",
   "execution_count": 12,
   "id": "super-secretary",
   "metadata": {},
   "outputs": [
    {
     "name": "stdout",
     "output_type": "stream",
     "text": [
      "We found errors in the data:\n",
      "\n",
      "ComplianceConstraint(Compliance(fare_amount is non-negative,COALESCE(CAST(fare_amount AS DECIMAL(20,10)), 0.0) >= 0,None)): Value: 0.9973816047886623 does not meet the constraint requirement!\n"
     ]
    }
   ],
   "source": [
    "if (verificationResult.status == CheckStatus.Success) {\n",
    "  println(\"The data passed the test, everything is fine!\")\n",
    "} else {\n",
    "  println(\"We found errors in the data:\\n\")\n",
    "\n",
    "  val resultsForAllConstraints = verificationResult.checkResults\n",
    "    .flatMap { case (_, checkResult) => checkResult.constraintResults }\n",
    "\n",
    "  resultsForAllConstraints\n",
    "    .filter { _.status != ConstraintStatus.Success }\n",
    "    .foreach { result => println(s\"${result.constraint}: ${result.message.get}\") }\n",
    "}"
   ]
  },
  {
   "cell_type": "markdown",
   "id": "loving-creature",
   "metadata": {},
   "source": [
    "## Part 2 - Run some ETL"
   ]
  },
  {
   "cell_type": "code",
   "execution_count": 7,
   "id": "personalized-salmon",
   "metadata": {},
   "outputs": [
    {
     "data": {
      "text/plain": [
       "import org.apache.spark.sql.functions.{to_timestamp, year, month, dayofmonth, col, hour, to_date}\n"
      ]
     },
     "execution_count": 7,
     "metadata": {},
     "output_type": "execute_result"
    }
   ],
   "source": [
    "import org.apache.spark.sql.functions.{to_timestamp, year, month, dayofmonth, col, hour, to_date}"
   ]
  },
  {
   "cell_type": "code",
   "execution_count": 8,
   "id": "deluxe-payday",
   "metadata": {},
   "outputs": [
    {
     "name": "stdout",
     "output_type": "stream",
     "text": [
      "root\n",
      " |-- VendorID: string (nullable = true)\n",
      " |-- lpep_pickup_datetime: string (nullable = true)\n",
      " |-- lpep_dropoff_datetime: string (nullable = true)\n",
      " |-- store_and_fwd_flag: string (nullable = true)\n",
      " |-- RatecodeID: string (nullable = true)\n",
      " |-- PULocationID: string (nullable = true)\n",
      " |-- DOLocationID: string (nullable = true)\n",
      " |-- passenger_count: string (nullable = true)\n",
      " |-- trip_distance: string (nullable = true)\n",
      " |-- fare_amount: string (nullable = true)\n",
      " |-- extra: string (nullable = true)\n",
      " |-- mta_tax: string (nullable = true)\n",
      " |-- tip_amount: string (nullable = true)\n",
      " |-- tolls_amount: string (nullable = true)\n",
      " |-- ehail_fee: string (nullable = true)\n",
      " |-- improvement_surcharge: string (nullable = true)\n",
      " |-- total_amount: string (nullable = true)\n",
      " |-- payment_type: string (nullable = true)\n",
      " |-- trip_type: string (nullable = true)\n",
      "\n"
     ]
    }
   ],
   "source": [
    "taxi_test.printSchema()"
   ]
  },
  {
   "cell_type": "code",
   "execution_count": 9,
   "id": "suffering-double",
   "metadata": {},
   "outputs": [
    {
     "data": {
      "text/plain": [
       "res4: Array[org.apache.spark.sql.Row] = Array([125], [7], [51], [124], [205], [169], [54], [15], [234], [232], [155], [154], [132], [200], [11], [101], [138], [69], [29], [42], [112], [73], [87], [64], [3], [113], [30], [34], [133], [162], [59], [146], [250], [139], [160], [8], [258], [203], [22], [28], [184], [85], [52], [16], [35], [251], [171], [183], [187], [71], [188], [98], [223], [47], [195], [99], [107], [214], [179], [248], [202], [96], [221], [43], [5], [31], [163], [100], [18], [70], [174], [206], [168], [224], [61], [218], [27], [75], [166], [219], [17], [126], [131], [140], [26], [227], [120], [46], [130], [147], [164], [207], [78], [208], [77], [228], [89], [136], [198], [257], [118], [6], [185], [256], [230], [201], [177], [244], [60], [68], [246], [229], [90], [194], [19...\n"
      ]
     },
     "execution_count": 9,
     "metadata": {},
     "output_type": "execute_result"
    }
   ],
   "source": [
    "taxi_test.select(\"PULocationID\").distinct().collect() //.take(30)"
   ]
  },
  {
   "cell_type": "code",
   "execution_count": 10,
   "id": "registered-dictionary",
   "metadata": {},
   "outputs": [
    {
     "data": {
      "text/plain": [
       "formatted: org.apache.spark.sql.DataFrame = [VendorID: string, store_and_fwd_flag: string ... 18 more fields]\n"
      ]
     },
     "execution_count": 10,
     "metadata": {},
     "output_type": "execute_result"
    }
   ],
   "source": [
    "// HH:mm:ss\n",
    "val formatted = taxi_test\n",
    "    .withColumn(\"pickupDate\", to_timestamp(col(\"lpep_pickup_datetime\"), \"yyyy-MM-dd HH:mm:SS\"))\n",
    "    .withColumn(\"dropOffDate\", to_timestamp(col(\"lpep_dropoff_datetime\"), \"yyyy-MM-dd HH:mm:SS\"))\n",
    "    .withColumn(\"tripDistance\", $\"trip_distance\".cast(\"float\"))\n",
    "    .drop(\"lpep_pickup_datetime\")\n",
    "    .drop(\"lpep_dropoff_datetime\")"
   ]
  },
  {
   "cell_type": "code",
   "execution_count": 11,
   "id": "seven-lightweight",
   "metadata": {},
   "outputs": [],
   "source": [
    "formatted.createTempView(\"formatted_taxi_data\")"
   ]
  },
  {
   "cell_type": "code",
   "execution_count": 12,
   "id": "abstract-darwin",
   "metadata": {},
   "outputs": [
    {
     "data": {
      "text/plain": [
       "analysis_df: org.apache.spark.sql.DataFrame = [PULocationID: string, DOLocationID: string ... 2 more fields]\n"
      ]
     },
     "execution_count": 12,
     "metadata": {},
     "output_type": "execute_result"
    }
   ],
   "source": [
    "// calculate the average cost between different areas\n",
    "val analysis_df = spark.sql(\"\"\"SELECT PULocationID, DOLocationID, avg(tripDistance), avg(fare_amount) \n",
    "            FROM formatted_taxi_data \n",
    "            GROUP BY PULocationID, DOLocationID\"\"\")"
   ]
  },
  {
   "cell_type": "code",
   "execution_count": 13,
   "id": "hybrid-graphic",
   "metadata": {},
   "outputs": [
    {
     "data": {
      "text/plain": [
       "res6: Array[org.apache.spark.sql.Row] = Array([33,112,4.946209033487564,18.089982285208144], [49,17,1.1625126630102134,6.842870299309287], [83,129,1.303071470070813,7.878322504430006], [80,33,4.309654428685973,16.351879049676025], [112,97,4.097139615612051,15.866742338251987], [255,62,4.4193831818126075,17.678504672897198], [217,217,0.6965442420790385,6.5828964941569295], [41,31,8.199055146044634,26.00228346456693], [112,25,5.418259954052651,18.96981132075472], [40,244,14.994736771834525,44.60526315789474], [145,181,7.8906250157777,27.201654411764707], [182,20,3.253474026531368,13.570064935064934], [33,140,7.692936797124302,25.73375464684015], [123,140,16.778518535472728,51.97925925925926], [253,138,2.8031578722753023,12.223684210526315], [42,231,10.189582743747629,35.29907913669065], [...\n"
      ]
     },
     "execution_count": 13,
     "metadata": {},
     "output_type": "execute_result"
    }
   ],
   "source": [
    "analysis_df.collect()"
   ]
  },
  {
   "cell_type": "markdown",
   "id": "generic-planning",
   "metadata": {},
   "source": [
    "# Advanced Analysis\n",
    "\n",
    "Trying Some GeoMesa Experiments - first load a dataset with long lats"
   ]
  },
  {
   "cell_type": "code",
   "execution_count": 5,
   "id": "saved-commonwealth",
   "metadata": {},
   "outputs": [
    {
     "data": {
      "text/plain": [
       "green_trip_data_2015_h1: String = s3a://nyc-tlc/trip data/green_tripdata_2015-0[1-6].csv\n",
       "green_trip_2015_h1: org.apache.spark.sql.DataFrame = [VendorID: string, lpep_pickup_datetime: string ... 19 more fields]\n"
      ]
     },
     "execution_count": 5,
     "metadata": {},
     "output_type": "execute_result"
    }
   ],
   "source": [
    "val green_trip_data_2015_h1 = \"s3a://nyc-tlc/trip data/green_tripdata_2015-0[1-6].csv\"\n",
    "val green_trip_2015_h1 = spark.read.option(\"header\", true).csv(green_trip_data_2015_h1)"
   ]
  },
  {
   "cell_type": "code",
   "execution_count": 6,
   "id": "commercial-consumer",
   "metadata": {},
   "outputs": [
    {
     "data": {
      "text/plain": [
       "import org.locationtech.jts.geom._\n",
       "import org.locationtech.geomesa.spark.jts._\n"
      ]
     },
     "execution_count": 6,
     "metadata": {},
     "output_type": "execute_result"
    }
   ],
   "source": [
    "// load geo mesa bits\n",
    "import org.locationtech.jts.geom._\n",
    "import org.locationtech.geomesa.spark.jts._"
   ]
  },
  {
   "cell_type": "code",
   "execution_count": 14,
   "id": "frequent-police",
   "metadata": {},
   "outputs": [
    {
     "data": {
      "text/plain": [
       "res5: org.apache.spark.sql.SparkSession = org.apache.spark.sql.SparkSession@6d3cbc40\n"
      ]
     },
     "execution_count": 14,
     "metadata": {},
     "output_type": "execute_result"
    }
   ],
   "source": [
    "spark.withJTS"
   ]
  },
  {
   "cell_type": "code",
   "execution_count": 10,
   "id": "powerful-stamp",
   "metadata": {},
   "outputs": [
    {
     "data": {
      "text/plain": [
       "import org.apache.spark.sql.types._\n"
      ]
     },
     "execution_count": 10,
     "metadata": {},
     "output_type": "execute_result"
    }
   ],
   "source": [
    "import org.apache.spark.sql.types._"
   ]
  },
  {
   "cell_type": "code",
   "execution_count": 7,
   "id": "exact-procurement",
   "metadata": {},
   "outputs": [
    {
     "name": "stdout",
     "output_type": "stream",
     "text": [
      "root\n",
      " |-- VendorID: string (nullable = true)\n",
      " |-- lpep_pickup_datetime: string (nullable = true)\n",
      " |-- Lpep_dropoff_datetime: string (nullable = true)\n",
      " |-- Store_and_fwd_flag: string (nullable = true)\n",
      " |-- RateCodeID: string (nullable = true)\n",
      " |-- Pickup_longitude: string (nullable = true)\n",
      " |-- Pickup_latitude: string (nullable = true)\n",
      " |-- Dropoff_longitude: string (nullable = true)\n",
      " |-- Dropoff_latitude: string (nullable = true)\n",
      " |-- Passenger_count: string (nullable = true)\n",
      " |-- Trip_distance: string (nullable = true)\n",
      " |-- Fare_amount: string (nullable = true)\n",
      " |-- Extra: string (nullable = true)\n",
      " |-- MTA_tax: string (nullable = true)\n",
      " |-- Tip_amount: string (nullable = true)\n",
      " |-- Tolls_amount: string (nullable = true)\n",
      " |-- Ehail_fee: string (nullable = true)\n",
      " |-- improvement_surcharge: string (nullable = true)\n",
      " |-- Total_amount: string (nullable = true)\n",
      " |-- Payment_type: string (nullable = true)\n",
      " |-- Trip_type : string (nullable = true)\n",
      "\n"
     ]
    }
   ],
   "source": [
    "green_trip_2015_h1.printSchema()"
   ]
  },
  {
   "cell_type": "code",
   "execution_count": 15,
   "id": "cooperative-negative",
   "metadata": {},
   "outputs": [
    {
     "data": {
      "text/plain": [
       "test_process: org.apache.spark.sql.DataFrame = [VendorID: string, lpep_pickup_datetime: string ... 20 more fields]\n"
      ]
     },
     "execution_count": 15,
     "metadata": {},
     "output_type": "execute_result"
    }
   ],
   "source": [
    "val test_process = green_trip_2015_h1\n",
    "    .withColumn(\"pickup_longitude\", col(\"Pickup_longitude\").cast(DoubleType))\n",
    "    .withColumn(\"pickup_latitude\", col(\"Pickup_latitude\").cast(DoubleType))\n",
    "    .withColumn(\"pickup_point\", st_makePoint(col(\"pickup_longitude\"), col(\"pickup_latitude\")))"
   ]
  },
  {
   "cell_type": "code",
   "execution_count": 16,
   "id": "extreme-penny",
   "metadata": {},
   "outputs": [
    {
     "ename": "java.lang.IllegalStateException",
     "evalue": " Cannot call methods on a stopped SparkContext.",
     "output_type": "error",
     "traceback": [
      "java.lang.IllegalStateException: Cannot call methods on a stopped SparkContext.",
      "This stopped SparkContext was created at:",
      "",
      "org.apache.spark.api.java.JavaSparkContext.<init>(JavaSparkContext.scala:58)",
      "sun.reflect.NativeConstructorAccessorImpl.newInstance0(Native Method)",
      "sun.reflect.NativeConstructorAccessorImpl.newInstance(NativeConstructorAccessorImpl.java:62)",
      "sun.reflect.DelegatingConstructorAccessorImpl.newInstance(DelegatingConstructorAccessorImpl.java:45)",
      "java.lang.reflect.Constructor.newInstance(Constructor.java:423)",
      "py4j.reflection.MethodInvoker.invoke(MethodInvoker.java:247)",
      "py4j.reflection.ReflectionEngine.invoke(ReflectionEngine.java:357)",
      "py4j.Gateway.invoke(Gateway.java:238)",
      "py4j.commands.ConstructorCommand.invokeConstructor(ConstructorCommand.java:80)",
      "py4j.commands.ConstructorCommand.execute(ConstructorCommand.java:69)",
      "py4j.GatewayConnection.run(GatewayConnection.java:238)",
      "java.lang.Thread.run(Thread.java:748)",
      "",
      "The currently active SparkContext was created at:",
      "",
      "(No active SparkContext.)",
      "",
      "  at org.apache.spark.SparkContext.assertNotStopped(SparkContext.scala:118)",
      "  at org.apache.spark.SparkContext.broadcast(SparkContext.scala:1506)",
      "  at org.apache.spark.sql.execution.datasources.csv.CSVFileFormat.buildReader(CSVFileFormat.scala:102)",
      "  at org.apache.spark.sql.execution.datasources.FileFormat.buildReaderWithPartitionValues(FileFormat.scala:130)",
      "  at org.apache.spark.sql.execution.datasources.FileFormat.buildReaderWithPartitionValues$(FileFormat.scala:121)",
      "  at org.apache.spark.sql.execution.datasources.TextBasedFileFormat.buildReaderWithPartitionValues(FileFormat.scala:170)",
      "  at org.apache.spark.sql.execution.FileSourceScanExec.inputRDD$lzycompute(DataSourceScanExec.scala:407)",
      "  at org.apache.spark.sql.execution.FileSourceScanExec.inputRDD(DataSourceScanExec.scala:398)",
      "  at org.apache.spark.sql.execution.FileSourceScanExec.doExecute(DataSourceScanExec.scala:485)",
      "  at org.apache.spark.sql.execution.SparkPlan.$anonfun$execute$1(SparkPlan.scala:180)",
      "  at org.apache.spark.sql.execution.SparkPlan.$anonfun$executeQuery$1(SparkPlan.scala:218)",
      "  at org.apache.spark.rdd.RDDOperationScope$.withScope(RDDOperationScope.scala:151)",
      "  at org.apache.spark.sql.execution.SparkPlan.executeQuery(SparkPlan.scala:215)",
      "  at org.apache.spark.sql.execution.SparkPlan.execute(SparkPlan.scala:176)",
      "  at org.apache.spark.sql.execution.InputAdapter.inputRDD(WholeStageCodegenExec.scala:525)",
      "  at org.apache.spark.sql.execution.InputRDDCodegen.inputRDDs(WholeStageCodegenExec.scala:453)",
      "  at org.apache.spark.sql.execution.InputRDDCodegen.inputRDDs$(WholeStageCodegenExec.scala:452)",
      "  at org.apache.spark.sql.execution.InputAdapter.inputRDDs(WholeStageCodegenExec.scala:496)",
      "  at org.apache.spark.sql.execution.ProjectExec.inputRDDs(basicPhysicalOperators.scala:50)",
      "  at org.apache.spark.sql.execution.WholeStageCodegenExec.doExecute(WholeStageCodegenExec.scala:746)",
      "  at org.apache.spark.sql.execution.SparkPlan.$anonfun$execute$1(SparkPlan.scala:180)",
      "  at org.apache.spark.sql.execution.SparkPlan.$anonfun$executeQuery$1(SparkPlan.scala:218)",
      "  at org.apache.spark.rdd.RDDOperationScope$.withScope(RDDOperationScope.scala:151)",
      "  at org.apache.spark.sql.execution.SparkPlan.executeQuery(SparkPlan.scala:215)",
      "  at org.apache.spark.sql.execution.SparkPlan.execute(SparkPlan.scala:176)",
      "  at org.apache.spark.sql.execution.SparkPlan.getByteArrayRdd(SparkPlan.scala:321)",
      "  at org.apache.spark.sql.execution.SparkPlan.executeTake(SparkPlan.scala:439)",
      "  at org.apache.spark.sql.execution.SparkPlan.executeTake(SparkPlan.scala:425)",
      "  at org.apache.spark.sql.execution.CollectLimitExec.executeCollect(limit.scala:47)",
      "  at org.apache.spark.sql.Dataset.collectFromPlan(Dataset.scala:3696)",
      "  at org.apache.spark.sql.Dataset.$anonfun$head$1(Dataset.scala:2722)",
      "  at org.apache.spark.sql.Dataset.$anonfun$withAction$1(Dataset.scala:3687)",
      "  at org.apache.spark.sql.execution.SQLExecution$.$anonfun$withNewExecutionId$5(SQLExecution.scala:103)",
      "  at org.apache.spark.sql.execution.SQLExecution$.withSQLConfPropagated(SQLExecution.scala:163)",
      "  at org.apache.spark.sql.execution.SQLExecution$.$anonfun$withNewExecutionId$1(SQLExecution.scala:90)",
      "  at org.apache.spark.sql.SparkSession.withActive(SparkSession.scala:772)",
      "  at org.apache.spark.sql.execution.SQLExecution$.withNewExecutionId(SQLExecution.scala:64)",
      "  at org.apache.spark.sql.Dataset.withAction(Dataset.scala:3685)",
      "  at org.apache.spark.sql.Dataset.head(Dataset.scala:2722)",
      "  at org.apache.spark.sql.Dataset.take(Dataset.scala:2929)",
      "  ... 43 elided",
      ""
     ]
    }
   ],
   "source": [
    "test_process.take(2)"
   ]
  },
  {
   "cell_type": "code",
   "execution_count": 9,
   "id": "indie-student",
   "metadata": {},
   "outputs": [],
   "source": [
    "// stop the session\n",
    "spark.stop()"
   ]
  },
  {
   "cell_type": "code",
   "execution_count": null,
   "id": "approved-video",
   "metadata": {},
   "outputs": [],
   "source": []
  }
 ],
 "metadata": {
  "kernelspec": {
   "display_name": "spylon-kernel [conda env:spark]",
   "language": "scala",
   "name": "conda-env-spark-spylon-kernel"
  },
  "language_info": {
   "codemirror_mode": "text/x-scala",
   "file_extension": ".scala",
   "help_links": [
    {
     "text": "MetaKernel Magics",
     "url": "https://metakernel.readthedocs.io/en/latest/source/README.html"
    }
   ],
   "mimetype": "text/x-scala",
   "name": "scala",
   "pygments_lexer": "scala",
   "version": "0.4.1"
  }
 },
 "nbformat": 4,
 "nbformat_minor": 5
}
