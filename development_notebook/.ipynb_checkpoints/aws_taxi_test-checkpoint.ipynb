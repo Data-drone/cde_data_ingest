{
 "cells": [
  {
   "cell_type": "markdown",
   "id": "separate-christian",
   "metadata": {},
   "source": [
    "# Scala Experiment"
   ]
  },
  {
   "cell_type": "code",
   "execution_count": 1,
   "id": "entertaining-insight",
   "metadata": {},
   "outputs": [],
   "source": [
    "%%init_spark\n",
    "launcher.master = \"spark://spark-master:7077\"\n",
    "launcher.num_executors = 2\n",
    "launcher.executor_cores = 2\n",
    "launcher.executor_memory = '4G'\n",
    "launcher.packages = [\"com.amazon.deequ:deequ:1.2.2-spark-3.0\",\n",
    "                    \"org.apache.hadoop:hadoop-aws:3.2.0\"]\n",
    "// we set the Anonymous AWS Credentials Provider as we don't need to authenticate\n",
    "// for aws open data\n",
    "launcher.conf.set(\"spark.hadoop.fs.s3a.aws.credentials.provider\", \n",
    "                  \"org.apache.hadoop.fs.s3a.AnonymousAWSCredentialsProvider\")"
   ]
  },
  {
   "cell_type": "code",
   "execution_count": 2,
   "id": "numeric-movement",
   "metadata": {},
   "outputs": [
    {
     "data": {
      "text/plain": [
       "Intitializing Scala interpreter ..."
      ]
     },
     "metadata": {},
     "output_type": "display_data"
    },
    {
     "data": {
      "text/plain": [
       "Spark Web UI available at http://7847ea2e55be:4041\n",
       "SparkContext available as 'sc' (version = 3.1.1, master = spark://spark-master:7077, app id = app-20210522140936-0005)\n",
       "SparkSession available as 'spark'\n"
      ]
     },
     "metadata": {},
     "output_type": "display_data"
    },
    {
     "data": {
      "text/plain": [
       "res0: org.apache.spark.sql.SparkSession = org.apache.spark.sql.SparkSession@6e39656f\n"
      ]
     },
     "execution_count": 2,
     "metadata": {},
     "output_type": "execute_result"
    }
   ],
   "source": [
    "spark"
   ]
  },
  {
   "cell_type": "code",
   "execution_count": 3,
   "id": "impressed-background",
   "metadata": {},
   "outputs": [
    {
     "data": {
      "text/plain": [
       "res1: String = 3.1.1\n"
      ]
     },
     "execution_count": 3,
     "metadata": {},
     "output_type": "execute_result"
    }
   ],
   "source": [
    "spark.version"
   ]
  },
  {
   "cell_type": "code",
   "execution_count": 5,
   "id": "advance-color",
   "metadata": {},
   "outputs": [
    {
     "data": {
      "text/plain": [
       "import org.apache.spark.sql.SparkSession\n",
       "import com.amazon.deequ.VerificationSuite\n",
       "import com.amazon.deequ.checks.{Check, CheckLevel, CheckStatus}\n",
       "import com.amazon.deequ.constraints.ConstraintStatus\n",
       "import java.net.URI\n",
       "import org.apache.hadoop.fs.{FileSystem, Path, RemoteIterator, LocatedFileStatus}\n"
      ]
     },
     "execution_count": 5,
     "metadata": {},
     "output_type": "execute_result"
    }
   ],
   "source": [
    "import org.apache.spark.sql.SparkSession\n",
    "import com.amazon.deequ.VerificationSuite\n",
    "import com.amazon.deequ.checks.{Check, CheckLevel, CheckStatus}\n",
    "import com.amazon.deequ.constraints.ConstraintStatus\n",
    "import java.net.URI\n",
    "import org.apache.hadoop.fs.{FileSystem, Path, RemoteIterator, LocatedFileStatus}"
   ]
  },
  {
   "cell_type": "code",
   "execution_count": 6,
   "id": "addressed-referral",
   "metadata": {},
   "outputs": [
    {
     "data": {
      "text/plain": [
       "rawS3Dir: String = s3a://nyc-tlc/\n",
       "fileSystem: org.apache.hadoop.fs.FileSystem = S3AFileSystem{uri=s3a://nyc-tlc, workingDir=s3a://nyc-tlc/user/jovyan, inputPolicy=normal, partSize=104857600, enableMultiObjectsDelete=true, maxKeys=5000, readAhead=65536, blockSize=33554432, multiPartThreshold=2147483647, serverSideEncryptionAlgorithm='NONE', blockFactory=org.apache.hadoop.fs.s3a.S3ADataBlocks$DiskBlockFactory@4a4c8492, metastore=NullMetadataStore, authoritative=false, useListV1=false, magicCommitter=false, boundedExecutor=BlockingThreadPoolExecutorService{SemaphoredDelegatingExecutor{permitCount=25, available=25, waiting=0}, activeCount=0}, unboundedExecutor=java.util.concurrent.ThreadPoolExecutor@63167b25[Running, pool size = 0, active threads = 0, queued tasks = 0, completed tasks = 0],...\n"
      ]
     },
     "execution_count": 6,
     "metadata": {},
     "output_type": "execute_result"
    }
   ],
   "source": [
    "val rawS3Dir = \"s3a://nyc-tlc/\"\n",
    "//val fileSystem = FileSystem.get(URI.create(rawS3Dir), new Configuration())\n",
    "val fileSystem = FileSystem.get(URI.create(rawS3Dir), spark.sparkContext.hadoopConfiguration)\n",
    "val itemlist = fileSystem.listFiles(new Path(rawS3Dir), true)       "
   ]
  },
  {
   "cell_type": "code",
   "execution_count": null,
   "id": "heated-cradle",
   "metadata": {},
   "outputs": [],
   "source": [
    "val green_trip_data = \"s3a://nyc-tlc/trip data/green_tripdata_2018*.csv\"\n",
    "val taxi_test = spark.read.csv(green_trip_data)"
   ]
  },
  {
   "cell_type": "code",
   "execution_count": 8,
   "id": "parental-affiliate",
   "metadata": {},
   "outputs": [
    {
     "name": "stdout",
     "output_type": "stream",
     "text": [
      "root\n",
      " |-- value: string (nullable = true)\n",
      "\n"
     ]
    }
   ],
   "source": [
    "taxi_test.printSchema()"
   ]
  },
  {
   "cell_type": "code",
   "execution_count": null,
   "id": "following-johns",
   "metadata": {},
   "outputs": [],
   "source": [
    "// try deequ test\n",
    "val verificationResult = VerificationSuite()\n",
    "    .onData(s3_stats)\n",
    "    .addCheck(\n",
    "        Check(CheckLevel.Error, \"unit testing my data\")\n",
    "            .isComplete(\"requestdatetime\")\n",
    "            .isComplete(\"key\")\n",
    "        )\n",
    "    .run()"
   ]
  },
  {
   "cell_type": "code",
   "execution_count": null,
   "id": "concerned-independence",
   "metadata": {},
   "outputs": [],
   "source": [
    "if (verificationResult.status == CheckStatus.Success) {\n",
    "  println(\"The data passed the test, everything is fine!\")\n",
    "} else {\n",
    "  println(\"We found errors in the data:\\n\")\n",
    "\n",
    "  val resultsForAllConstraints = verificationResult.checkResults\n",
    "    .flatMap { case (_, checkResult) => checkResult.constraintResults }\n",
    "\n",
    "  resultsForAllConstraints\n",
    "    .filter { _.status != ConstraintStatus.Success }\n",
    "    .foreach { result => println(s\"${result.constraint}: ${result.message.get}\") }\n",
    "}"
   ]
  },
  {
   "cell_type": "code",
   "execution_count": null,
   "id": "coastal-relay",
   "metadata": {},
   "outputs": [],
   "source": [
    "// stop the session\n",
    "spark.stop()"
   ]
  }
 ],
 "metadata": {
  "kernelspec": {
   "display_name": "spylon-kernel [conda env:spark]",
   "language": "scala",
   "name": "conda-env-spark-spylon-kernel"
  },
  "language_info": {
   "codemirror_mode": "text/x-scala",
   "file_extension": ".scala",
   "help_links": [
    {
     "text": "MetaKernel Magics",
     "url": "https://metakernel.readthedocs.io/en/latest/source/README.html"
    }
   ],
   "mimetype": "text/x-scala",
   "name": "scala",
   "pygments_lexer": "scala",
   "version": "0.4.1"
  }
 },
 "nbformat": 4,
 "nbformat_minor": 5
}
